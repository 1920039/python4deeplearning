{
  "nbformat": 4,
  "nbformat_minor": 0,
  "metadata": {
    "colab": {
      "name": "stock_check.ipynb",
      "provenance": [],
      "authorship_tag": "ABX9TyPtkpckzKBmrUSMllPFjh8B",
      "include_colab_link": true
    },
    "kernelspec": {
      "name": "python3",
      "display_name": "Python 3"
    },
    "language_info": {
      "name": "python"
    }
  },
  "cells": [
    {
      "cell_type": "markdown",
      "metadata": {
        "id": "view-in-github",
        "colab_type": "text"
      },
      "source": [
        "<a href=\"https://colab.research.google.com/github/1920039/sharing/blob/main/stock_check.ipynb\" target=\"_parent\"><img src=\"https://colab.research.google.com/assets/colab-badge.svg\" alt=\"Open In Colab\"/></a>"
      ]
    },
    {
      "cell_type": "code",
      "execution_count": 1,
      "metadata": {
        "colab": {
          "base_uri": "https://localhost:8080/"
        },
        "id": "aWOA04TdaFY_",
        "outputId": "cc8351b6-fd40-4f4f-ba9d-ab8de27069ee"
      },
      "outputs": [
        {
          "output_type": "stream",
          "name": "stdout",
          "text": [
            "{'tv': 3, 'monitor': 1}\n",
            "{'hairdrier': 3}\n"
          ]
        }
      ],
      "source": [
        "stock = {'tv':5, 'monitor':3, 'oven': 8}\n",
        "order = {'tv':2, 'hairdrier':3, 'monitor':2}\n",
        "\n",
        "in_stock = {}\n",
        "nonbiz_item = {}\n",
        "for key, value in order.items():\n",
        "    try:\n",
        "        in_stock[key] = stock[key] - value\n",
        "    except:\n",
        "        nonbiz_item[key] = value\n",
        "print(in_stock)\n",
        "print(nonbiz_item)"
      ]
    },
    {
      "cell_type": "code",
      "source": [
        ""
      ],
      "metadata": {
        "id": "xXITRpJ5a89e"
      },
      "execution_count": null,
      "outputs": []
    }
  ]
}